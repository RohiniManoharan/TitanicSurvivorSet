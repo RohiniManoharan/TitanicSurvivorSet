{
 "cells": [
  {
   "cell_type": "markdown",
   "id": "a9951992",
   "metadata": {},
   "source": [
    "# PREDICTING TITANIC SURVIVOR"
   ]
  },
  {
   "cell_type": "markdown",
   "id": "5e3816ae",
   "metadata": {},
   "source": [
    "### Objective: RMS Titanic shipwreck happened on April 15, 1912 after colliding with an iceberg, killing 1502 out of 2224 passengers and crew. We are curious to predict the passengers survival based on features mentioned in our data set.\n",
    "\n"
   ]
  },
  {
   "cell_type": "markdown",
   "id": "c64153bf",
   "metadata": {},
   "source": [
    "##We have imported necessary libraries like pandas that is used for faster data analysis, data cleaning, and data pre-processing.Pandas is built on top of the numerical library of Python, called numpy.\n",
    "\n",
    "Seaborn is one of an amazing library based on matplotlib for visualization of the graphical statistical plotting in Python. Seaborn provides many color palettes and defaults beautiful styles to make the creation of many statistical plots in Python more attractive.\n",
    "\n",
    "Libraries needed for model evaluation metrics like accuracy,precision,recall, F1, confusion matrix and roc_auc_score are imported.\n"
   ]
  },
  {
   "cell_type": "code",
   "execution_count": 52,
   "id": "264a0778",
   "metadata": {},
   "outputs": [],
   "source": [
    "#Import Libraries\n",
    "import pandas as pd\n",
    "import numpy as np\n",
    "import seaborn as sns\n",
    "import matplotlib.pyplot as plt\n",
    "import statistics as st\n",
    "from sklearn.feature_selection import SelectKBest\n",
    "from sklearn.feature_selection import chi2\n",
    "from sklearn.model_selection import train_test_split\n",
    "from sklearn.linear_model import LogisticRegression\n",
    "from sklearn import metrics\n",
    "from sklearn.metrics import accuracy_score\n",
    "from sklearn.metrics import precision_score\n",
    "from sklearn.metrics import recall_score\n",
    "from sklearn.metrics import f1_score\n",
    "from sklearn.metrics import roc_auc_score\n",
    "from sklearn.metrics import confusion_matrix\n",
    "from sklearn import preprocessing\n",
    "from sklearn.metrics import cohen_kappa_score\n"
   ]
  },
  {
   "cell_type": "code",
   "execution_count": 53,
   "id": "75cc4b13",
   "metadata": {},
   "outputs": [],
   "source": [
    "#Import Train Data\n",
    "Titanic_dataset = pd.read_csv('train.csv')\n"
   ]
  },
  {
   "cell_type": "markdown",
   "id": "37b2ddab",
   "metadata": {},
   "source": [
    "## Data Exploration"
   ]
  },
  {
   "cell_type": "markdown",
   "id": "934a67f8",
   "metadata": {},
   "source": [
    "In data exploration we have done many steps:\n",
    "\n",
    "    Dataset shape\n",
    "    Columns classification (Categorical and Numerical features)\n",
    "    Data Frame\n",
    "    Correlation\n",
    "    Pairplot\n",
    "    Categorical count\n",
    "    Check Outliers"
   ]
  },
  {
   "cell_type": "code",
   "execution_count": 54,
   "id": "9fc80087",
   "metadata": {},
   "outputs": [
    {
     "data": {
      "text/html": [
       "<div>\n",
       "<style scoped>\n",
       "    .dataframe tbody tr th:only-of-type {\n",
       "        vertical-align: middle;\n",
       "    }\n",
       "\n",
       "    .dataframe tbody tr th {\n",
       "        vertical-align: top;\n",
       "    }\n",
       "\n",
       "    .dataframe thead th {\n",
       "        text-align: right;\n",
       "    }\n",
       "</style>\n",
       "<table border=\"1\" class=\"dataframe\">\n",
       "  <thead>\n",
       "    <tr style=\"text-align: right;\">\n",
       "      <th></th>\n",
       "      <th>PassengerId</th>\n",
       "      <th>Survived</th>\n",
       "      <th>Pclass</th>\n",
       "      <th>Name</th>\n",
       "      <th>Sex</th>\n",
       "      <th>Age</th>\n",
       "      <th>SibSp</th>\n",
       "      <th>Parch</th>\n",
       "      <th>Ticket</th>\n",
       "      <th>Fare</th>\n",
       "      <th>Cabin</th>\n",
       "      <th>Embarked</th>\n",
       "    </tr>\n",
       "  </thead>\n",
       "  <tbody>\n",
       "    <tr>\n",
       "      <th>0</th>\n",
       "      <td>1</td>\n",
       "      <td>0</td>\n",
       "      <td>3</td>\n",
       "      <td>Braund, Mr. Owen Harris</td>\n",
       "      <td>male</td>\n",
       "      <td>22.0</td>\n",
       "      <td>1</td>\n",
       "      <td>0</td>\n",
       "      <td>A/5 21171</td>\n",
       "      <td>7.2500</td>\n",
       "      <td>NaN</td>\n",
       "      <td>S</td>\n",
       "    </tr>\n",
       "    <tr>\n",
       "      <th>1</th>\n",
       "      <td>2</td>\n",
       "      <td>1</td>\n",
       "      <td>1</td>\n",
       "      <td>Cumings, Mrs. John Bradley (Florence Briggs Th...</td>\n",
       "      <td>female</td>\n",
       "      <td>38.0</td>\n",
       "      <td>1</td>\n",
       "      <td>0</td>\n",
       "      <td>PC 17599</td>\n",
       "      <td>71.2833</td>\n",
       "      <td>C85</td>\n",
       "      <td>C</td>\n",
       "    </tr>\n",
       "    <tr>\n",
       "      <th>2</th>\n",
       "      <td>3</td>\n",
       "      <td>1</td>\n",
       "      <td>3</td>\n",
       "      <td>Heikkinen, Miss. Laina</td>\n",
       "      <td>female</td>\n",
       "      <td>26.0</td>\n",
       "      <td>0</td>\n",
       "      <td>0</td>\n",
       "      <td>STON/O2. 3101282</td>\n",
       "      <td>7.9250</td>\n",
       "      <td>NaN</td>\n",
       "      <td>S</td>\n",
       "    </tr>\n",
       "    <tr>\n",
       "      <th>3</th>\n",
       "      <td>4</td>\n",
       "      <td>1</td>\n",
       "      <td>1</td>\n",
       "      <td>Futrelle, Mrs. Jacques Heath (Lily May Peel)</td>\n",
       "      <td>female</td>\n",
       "      <td>35.0</td>\n",
       "      <td>1</td>\n",
       "      <td>0</td>\n",
       "      <td>113803</td>\n",
       "      <td>53.1000</td>\n",
       "      <td>C123</td>\n",
       "      <td>S</td>\n",
       "    </tr>\n",
       "    <tr>\n",
       "      <th>4</th>\n",
       "      <td>5</td>\n",
       "      <td>0</td>\n",
       "      <td>3</td>\n",
       "      <td>Allen, Mr. William Henry</td>\n",
       "      <td>male</td>\n",
       "      <td>35.0</td>\n",
       "      <td>0</td>\n",
       "      <td>0</td>\n",
       "      <td>373450</td>\n",
       "      <td>8.0500</td>\n",
       "      <td>NaN</td>\n",
       "      <td>S</td>\n",
       "    </tr>\n",
       "  </tbody>\n",
       "</table>\n",
       "</div>"
      ],
      "text/plain": [
       "   PassengerId  Survived  Pclass  \\\n",
       "0            1         0       3   \n",
       "1            2         1       1   \n",
       "2            3         1       3   \n",
       "3            4         1       1   \n",
       "4            5         0       3   \n",
       "\n",
       "                                                Name     Sex   Age  SibSp  \\\n",
       "0                            Braund, Mr. Owen Harris    male  22.0      1   \n",
       "1  Cumings, Mrs. John Bradley (Florence Briggs Th...  female  38.0      1   \n",
       "2                             Heikkinen, Miss. Laina  female  26.0      0   \n",
       "3       Futrelle, Mrs. Jacques Heath (Lily May Peel)  female  35.0      1   \n",
       "4                           Allen, Mr. William Henry    male  35.0      0   \n",
       "\n",
       "   Parch            Ticket     Fare Cabin Embarked  \n",
       "0      0         A/5 21171   7.2500   NaN        S  \n",
       "1      0          PC 17599  71.2833   C85        C  \n",
       "2      0  STON/O2. 3101282   7.9250   NaN        S  \n",
       "3      0            113803  53.1000  C123        S  \n",
       "4      0            373450   8.0500   NaN        S  "
      ]
     },
     "execution_count": 54,
     "metadata": {},
     "output_type": "execute_result"
    }
   ],
   "source": [
    "Titanic_dataset.head()"
   ]
  },
  {
   "cell_type": "markdown",
   "id": "3592197d",
   "metadata": {},
   "source": [
    "This is our top five data in our dataset."
   ]
  },
  {
   "cell_type": "code",
   "execution_count": 4,
   "id": "ba1d2d74",
   "metadata": {},
   "outputs": [
    {
     "data": {
      "text/plain": [
       "(891, 12)"
      ]
     },
     "execution_count": 4,
     "metadata": {},
     "output_type": "execute_result"
    }
   ],
   "source": [
    "Titanic_dataset.shape\n"
   ]
  },
  {
   "cell_type": "markdown",
   "id": "097d4ec9",
   "metadata": {},
   "source": [
    "In our dataset total 891 passengers with 12 columns."
   ]
  },
  {
   "cell_type": "code",
   "execution_count": 5,
   "id": "1d250787",
   "metadata": {},
   "outputs": [
    {
     "data": {
      "text/plain": [
       "Index(['PassengerId', 'Survived', 'Pclass', 'Name', 'Sex', 'Age', 'SibSp',\n",
       "       'Parch', 'Ticket', 'Fare', 'Cabin', 'Embarked'],\n",
       "      dtype='object')"
      ]
     },
     "execution_count": 5,
     "metadata": {},
     "output_type": "execute_result"
    }
   ],
   "source": [
    "Titanic_dataset.columns"
   ]
  },
  {
   "cell_type": "markdown",
   "id": "772bc91b",
   "metadata": {},
   "source": [
    "These are names of different columns in our dataset."
   ]
  },
  {
   "cell_type": "code",
   "execution_count": 6,
   "id": "2877eb53",
   "metadata": {},
   "outputs": [],
   "source": [
    " # Getting the Categorical and Numerical Features\n",
    "numerical_features = [x for x in Titanic_dataset.columns if Titanic_dataset[x].dtypes != 'O']\n",
    "categorical_features = [x for x in Titanic_dataset.columns if Titanic_dataset[x].dtypes == 'O']"
   ]
  },
  {
   "cell_type": "code",
   "execution_count": 7,
   "id": "d6c00456",
   "metadata": {},
   "outputs": [
    {
     "data": {
      "text/plain": [
       "(['PassengerId', 'Survived', 'Pclass', 'Age', 'SibSp', 'Parch', 'Fare'],\n",
       " ['Name', 'Sex', 'Ticket', 'Cabin', 'Embarked'])"
      ]
     },
     "execution_count": 7,
     "metadata": {},
     "output_type": "execute_result"
    }
   ],
   "source": [
    "numerical_features,categorical_features"
   ]
  },
  {
   "cell_type": "markdown",
   "id": "c010a221",
   "metadata": {},
   "source": [
    "Here, 7 columns are related to numerical features and 5 columns having categorical features."
   ]
  },
  {
   "cell_type": "code",
   "execution_count": 8,
   "id": "473fd60c",
   "metadata": {},
   "outputs": [
    {
     "name": "stdout",
     "output_type": "stream",
     "text": [
      "<class 'pandas.core.frame.DataFrame'>\n",
      "RangeIndex: 891 entries, 0 to 890\n",
      "Data columns (total 12 columns):\n",
      " #   Column       Non-Null Count  Dtype  \n",
      "---  ------       --------------  -----  \n",
      " 0   PassengerId  891 non-null    int64  \n",
      " 1   Survived     891 non-null    int64  \n",
      " 2   Pclass       891 non-null    int64  \n",
      " 3   Name         891 non-null    object \n",
      " 4   Sex          891 non-null    object \n",
      " 5   Age          714 non-null    float64\n",
      " 6   SibSp        891 non-null    int64  \n",
      " 7   Parch        891 non-null    int64  \n",
      " 8   Ticket       891 non-null    object \n",
      " 9   Fare         891 non-null    float64\n",
      " 10  Cabin        204 non-null    object \n",
      " 11  Embarked     889 non-null    object \n",
      "dtypes: float64(2), int64(5), object(5)\n",
      "memory usage: 83.7+ KB\n"
     ]
    }
   ],
   "source": [
    "Titanic_dataset.info()"
   ]
  },
  {
   "cell_type": "code",
   "execution_count": 9,
   "id": "f4667f0b",
   "metadata": {},
   "outputs": [
    {
     "data": {
      "text/html": [
       "<div>\n",
       "<style scoped>\n",
       "    .dataframe tbody tr th:only-of-type {\n",
       "        vertical-align: middle;\n",
       "    }\n",
       "\n",
       "    .dataframe tbody tr th {\n",
       "        vertical-align: top;\n",
       "    }\n",
       "\n",
       "    .dataframe thead th {\n",
       "        text-align: right;\n",
       "    }\n",
       "</style>\n",
       "<table border=\"1\" class=\"dataframe\">\n",
       "  <thead>\n",
       "    <tr style=\"text-align: right;\">\n",
       "      <th></th>\n",
       "      <th>PassengerId</th>\n",
       "      <th>Survived</th>\n",
       "      <th>Pclass</th>\n",
       "      <th>Age</th>\n",
       "      <th>SibSp</th>\n",
       "      <th>Parch</th>\n",
       "      <th>Fare</th>\n",
       "    </tr>\n",
       "  </thead>\n",
       "  <tbody>\n",
       "    <tr>\n",
       "      <th>count</th>\n",
       "      <td>891.000000</td>\n",
       "      <td>891.000000</td>\n",
       "      <td>891.000000</td>\n",
       "      <td>714.000000</td>\n",
       "      <td>891.000000</td>\n",
       "      <td>891.000000</td>\n",
       "      <td>891.000000</td>\n",
       "    </tr>\n",
       "    <tr>\n",
       "      <th>mean</th>\n",
       "      <td>446.000000</td>\n",
       "      <td>0.383838</td>\n",
       "      <td>2.308642</td>\n",
       "      <td>29.699118</td>\n",
       "      <td>0.523008</td>\n",
       "      <td>0.381594</td>\n",
       "      <td>32.204208</td>\n",
       "    </tr>\n",
       "    <tr>\n",
       "      <th>std</th>\n",
       "      <td>257.353842</td>\n",
       "      <td>0.486592</td>\n",
       "      <td>0.836071</td>\n",
       "      <td>14.526497</td>\n",
       "      <td>1.102743</td>\n",
       "      <td>0.806057</td>\n",
       "      <td>49.693429</td>\n",
       "    </tr>\n",
       "    <tr>\n",
       "      <th>min</th>\n",
       "      <td>1.000000</td>\n",
       "      <td>0.000000</td>\n",
       "      <td>1.000000</td>\n",
       "      <td>0.420000</td>\n",
       "      <td>0.000000</td>\n",
       "      <td>0.000000</td>\n",
       "      <td>0.000000</td>\n",
       "    </tr>\n",
       "    <tr>\n",
       "      <th>25%</th>\n",
       "      <td>223.500000</td>\n",
       "      <td>0.000000</td>\n",
       "      <td>2.000000</td>\n",
       "      <td>20.125000</td>\n",
       "      <td>0.000000</td>\n",
       "      <td>0.000000</td>\n",
       "      <td>7.910400</td>\n",
       "    </tr>\n",
       "    <tr>\n",
       "      <th>50%</th>\n",
       "      <td>446.000000</td>\n",
       "      <td>0.000000</td>\n",
       "      <td>3.000000</td>\n",
       "      <td>28.000000</td>\n",
       "      <td>0.000000</td>\n",
       "      <td>0.000000</td>\n",
       "      <td>14.454200</td>\n",
       "    </tr>\n",
       "    <tr>\n",
       "      <th>75%</th>\n",
       "      <td>668.500000</td>\n",
       "      <td>1.000000</td>\n",
       "      <td>3.000000</td>\n",
       "      <td>38.000000</td>\n",
       "      <td>1.000000</td>\n",
       "      <td>0.000000</td>\n",
       "      <td>31.000000</td>\n",
       "    </tr>\n",
       "    <tr>\n",
       "      <th>max</th>\n",
       "      <td>891.000000</td>\n",
       "      <td>1.000000</td>\n",
       "      <td>3.000000</td>\n",
       "      <td>80.000000</td>\n",
       "      <td>8.000000</td>\n",
       "      <td>6.000000</td>\n",
       "      <td>512.329200</td>\n",
       "    </tr>\n",
       "  </tbody>\n",
       "</table>\n",
       "</div>"
      ],
      "text/plain": [
       "       PassengerId    Survived      Pclass         Age       SibSp  \\\n",
       "count   891.000000  891.000000  891.000000  714.000000  891.000000   \n",
       "mean    446.000000    0.383838    2.308642   29.699118    0.523008   \n",
       "std     257.353842    0.486592    0.836071   14.526497    1.102743   \n",
       "min       1.000000    0.000000    1.000000    0.420000    0.000000   \n",
       "25%     223.500000    0.000000    2.000000   20.125000    0.000000   \n",
       "50%     446.000000    0.000000    3.000000   28.000000    0.000000   \n",
       "75%     668.500000    1.000000    3.000000   38.000000    1.000000   \n",
       "max     891.000000    1.000000    3.000000   80.000000    8.000000   \n",
       "\n",
       "            Parch        Fare  \n",
       "count  891.000000  891.000000  \n",
       "mean     0.381594   32.204208  \n",
       "std      0.806057   49.693429  \n",
       "min      0.000000    0.000000  \n",
       "25%      0.000000    7.910400  \n",
       "50%      0.000000   14.454200  \n",
       "75%      0.000000   31.000000  \n",
       "max      6.000000  512.329200  "
      ]
     },
     "execution_count": 9,
     "metadata": {},
     "output_type": "execute_result"
    }
   ],
   "source": [
    "Titanic_dataset.describe()"
   ]
  },
  {
   "cell_type": "markdown",
   "id": "8e69d3f2",
   "metadata": {},
   "source": [
    "This is the description of our dataset. This shows that the minimum values of SibSp, Parch, Fare is zero. 177 passengers were those which have missing values related to their age."
   ]
  },
  {
   "cell_type": "markdown",
   "id": "a999ae85",
   "metadata": {},
   "source": [
    "# Correlation"
   ]
  },
  {
   "cell_type": "markdown",
   "id": "778c6f6c",
   "metadata": {},
   "source": [
    "Correlations measure the numerical relationship of one variable to another, a very useful way to identify variables in a modeling data set that are related to each other.\n",
    "\n",
    "Finding pairs of variables with high correlation indicates there is redundancy in the data. Redundant variables do not provide new, additional information to predict a target variable.\n",
    "\n",
    "If the correlation coefficient is greater than zero, it is a positive relationship. Conversely, if the value is less than zero, it is a negative relationship. A value of zero indicates that there is no relationship between the two variables."
   ]
  },
  {
   "cell_type": "markdown",
   "id": "aa0f15b8",
   "metadata": {},
   "source": [
    "Here,\n",
    "\n",
    "- Independent variable ---- Pclass, sex, age, Sibsp (number of siblings/spouse),parch(Number of parents/children), PassengerId, Fare\n",
    "- dependent variable----- Survived column"
   ]
  },
  {
   "cell_type": "markdown",
   "id": "c95aeecd",
   "metadata": {},
   "source": [
    "## Heatmap"
   ]
  },
  {
   "cell_type": "markdown",
   "id": "f2289b93",
   "metadata": {},
   "source": [
    "A heatmap is very useful in visualizing the concentration of values between two dimensions of a matrix. This helps in finding patterns and gives a perspective of depth.\n",
    "\n",
    "Correlation between independent variables and dependent variable can be visualized using heatmap."
   ]
  },
  {
   "cell_type": "code",
   "execution_count": 11,
   "id": "9060e85f",
   "metadata": {},
   "outputs": [
    {
     "data": {
      "text/plain": [
       "<AxesSubplot:>"
      ]
     },
     "execution_count": 11,
     "metadata": {},
     "output_type": "execute_result"
    },
    {
     "data": {
      "image/png": "[encoded data removed]",
      "text/plain": [
       "<Figure size 1440x1440 with 2 Axes>"
      ]
     },
     "metadata": {
      "needs_background": "light"
     },
     "output_type": "display_data"
    }
   ],
   "source": [
    "corrmat = Titanic_dataset.corr()\n",
    "top_corr_features = corrmat.index\n",
    "plt.figure(figsize=(20,20))\n",
    "#plot heat map\n",
    "sns.heatmap(Titanic_dataset[top_corr_features].corr(),annot=True,cmap=\"RdYlGn\")"
   ]
  },
  {
   "cell_type": "markdown",
   "id": "454e6749",
   "metadata": {},
   "source": [
    "Dark green color shows more positive and red color show more negative correlation here.\n",
    "\n",
    "As we got from the correlation table, Fare column has the highest correlation and Pclass has the lowest correlation with the target variable \"Survived\". This can be seen from the visualization here."
   ]
  },
  {
   "cell_type": "markdown",
   "id": "0a5393c2",
   "metadata": {},
   "source": [
    "Apart from Heatmap , we have used correlation method (using corr()) and pair plot to find the correlation. As a result, we are not finding any relevant relationship among the given independent variables here."
   ]
  },
  {
   "cell_type": "markdown",
   "id": "1458f7d6",
   "metadata": {},
   "source": [
    "## Categorical Count"
   ]
  },
  {
   "cell_type": "markdown",
   "id": "40850cd9",
   "metadata": {},
   "source": [
    "In categorical count, we count number of passengers on the basis of different columns such as Embarked, Pclass and Sex."
   ]
  },
  {
   "cell_type": "code",
   "execution_count": 13,
   "id": "4484625f",
   "metadata": {},
   "outputs": [
    {
     "data": {
      "text/html": [
       "<div>\n",
       "<style scoped>\n",
       "    .dataframe tbody tr th:only-of-type {\n",
       "        vertical-align: middle;\n",
       "    }\n",
       "\n",
       "    .dataframe tbody tr th {\n",
       "        vertical-align: top;\n",
       "    }\n",
       "\n",
       "    .dataframe thead th {\n",
       "        text-align: right;\n",
       "    }\n",
       "</style>\n",
       "<table border=\"1\" class=\"dataframe\">\n",
       "  <thead>\n",
       "    <tr style=\"text-align: right;\">\n",
       "      <th></th>\n",
       "      <th>counts</th>\n",
       "      <th>per100</th>\n",
       "    </tr>\n",
       "  </thead>\n",
       "  <tbody>\n",
       "    <tr>\n",
       "      <th>S</th>\n",
       "      <td>644</td>\n",
       "      <td>72.4</td>\n",
       "    </tr>\n",
       "    <tr>\n",
       "      <th>C</th>\n",
       "      <td>168</td>\n",
       "      <td>18.9</td>\n",
       "    </tr>\n",
       "    <tr>\n",
       "      <th>Q</th>\n",
       "      <td>77</td>\n",
       "      <td>8.7</td>\n",
       "    </tr>\n",
       "  </tbody>\n",
       "</table>\n",
       "</div>"
      ],
      "text/plain": [
       "   counts per100\n",
       "S     644   72.4\n",
       "C     168   18.9\n",
       "Q      77    8.7"
      ]
     },
     "execution_count": 13,
     "metadata": {},
     "output_type": "execute_result"
    }
   ],
   "source": [
    "# Categorical count\n",
    "Titanic_dataset['Embarked'].value_counts()\n",
    "percent100 = Titanic_dataset['Embarked'].value_counts(normalize=True).mul(100).round(1).astype(str) \n",
    "Embarked=pd.DataFrame({'counts': Titanic_dataset['Embarked'].value_counts(), 'per100': percent100}).head(5)\n",
    "Embarked\n"
   ]
  },
  {
   "cell_type": "markdown",
   "id": "159e25dc",
   "metadata": {},
   "source": [
    "In our dataset, 644 passengers belonged to S, 168 belonged to C and 77 belonged to Q in Embarked column. But, out of 891 only 2 passengers are not belonged to any S,C and Q. So, these are missing values in our dataset."
   ]
  },
  {
   "cell_type": "code",
   "execution_count": 14,
   "id": "04999d2e",
   "metadata": {},
   "outputs": [
    {
     "data": {
      "text/html": [
       "<div>\n",
       "<style scoped>\n",
       "    .dataframe tbody tr th:only-of-type {\n",
       "        vertical-align: middle;\n",
       "    }\n",
       "\n",
       "    .dataframe tbody tr th {\n",
       "        vertical-align: top;\n",
       "    }\n",
       "\n",
       "    .dataframe thead th {\n",
       "        text-align: right;\n",
       "    }\n",
       "</style>\n",
       "<table border=\"1\" class=\"dataframe\">\n",
       "  <thead>\n",
       "    <tr style=\"text-align: right;\">\n",
       "      <th></th>\n",
       "      <th>counts</th>\n",
       "      <th>per100</th>\n",
       "    </tr>\n",
       "  </thead>\n",
       "  <tbody>\n",
       "    <tr>\n",
       "      <th>3</th>\n",
       "      <td>491</td>\n",
       "      <td>55.1</td>\n",
       "    </tr>\n",
       "    <tr>\n",
       "      <th>1</th>\n",
       "      <td>216</td>\n",
       "      <td>24.2</td>\n",
       "    </tr>\n",
       "    <tr>\n",
       "      <th>2</th>\n",
       "      <td>184</td>\n",
       "      <td>20.7</td>\n",
       "    </tr>\n",
       "  </tbody>\n",
       "</table>\n",
       "</div>"
      ],
      "text/plain": [
       "   counts per100\n",
       "3     491   55.1\n",
       "1     216   24.2\n",
       "2     184   20.7"
      ]
     },
     "execution_count": 14,
     "metadata": {},
     "output_type": "execute_result"
    }
   ],
   "source": [
    "Titanic_dataset['Pclass'].value_counts()\n",
    "percent100 = Titanic_dataset['Pclass'].value_counts(normalize=True).mul(100).round(1).astype(str) \n",
    "Pclass=pd.DataFrame({'counts': Titanic_dataset['Pclass'].value_counts(), 'per100': percent100}).head(5)\n",
    "Pclass"
   ]
  },
  {
   "cell_type": "markdown",
   "id": "8c8b759f",
   "metadata": {},
   "source": [
    "In our dataset, 216 passengers belonged to Pclass 1, 184 belonged to Pclass 2 and 491 passengers belonged to Pclass 3. "
   ]
  },
  {
   "cell_type": "code",
   "execution_count": 15,
   "id": "114f3bcf",
   "metadata": {},
   "outputs": [
    {
     "data": {
      "text/html": [
       "<div>\n",
       "<style scoped>\n",
       "    .dataframe tbody tr th:only-of-type {\n",
       "        vertical-align: middle;\n",
       "    }\n",
       "\n",
       "    .dataframe tbody tr th {\n",
       "        vertical-align: top;\n",
       "    }\n",
       "\n",
       "    .dataframe thead th {\n",
       "        text-align: right;\n",
       "    }\n",
       "</style>\n",
       "<table border=\"1\" class=\"dataframe\">\n",
       "  <thead>\n",
       "    <tr style=\"text-align: right;\">\n",
       "      <th></th>\n",
       "      <th>counts</th>\n",
       "      <th>per100</th>\n",
       "    </tr>\n",
       "  </thead>\n",
       "  <tbody>\n",
       "    <tr>\n",
       "      <th>male</th>\n",
       "      <td>577</td>\n",
       "      <td>64.8</td>\n",
       "    </tr>\n",
       "    <tr>\n",
       "      <th>female</th>\n",
       "      <td>314</td>\n",
       "      <td>35.2</td>\n",
       "    </tr>\n",
       "  </tbody>\n",
       "</table>\n",
       "</div>"
      ],
      "text/plain": [
       "        counts per100\n",
       "male       577   64.8\n",
       "female     314   35.2"
      ]
     },
     "execution_count": 15,
     "metadata": {},
     "output_type": "execute_result"
    }
   ],
   "source": [
    "Titanic_dataset['Sex'].value_counts()\n",
    "percent100 = Titanic_dataset['Sex'].value_counts(normalize=True).mul(100).round(1).astype(str) \n",
    "Sex=pd.DataFrame({'counts': Titanic_dataset['Sex'].value_counts(), 'per100': percent100}).head(5)\n",
    "Sex"
   ]
  },
  {
   "cell_type": "markdown",
   "id": "be3a7a5f",
   "metadata": {},
   "source": [
    "In our dataset, number of male passengers were more as compared to female passengers. 577 were male and 314 were female."
   ]
  },
  {
   "cell_type": "markdown",
   "id": "1b1ce8e3",
   "metadata": {},
   "source": [
    "## Check Outliers"
   ]
  },
  {
   "cell_type": "markdown",
   "id": "23daed6d",
   "metadata": {},
   "source": [
    "For checking the outliers we used Box Plot."
   ]
  },
  {
   "cell_type": "markdown",
   "id": "c379ceaf",
   "metadata": {},
   "source": [
    "Box plot is a graphical representation of data based on minimum values, firts quartile, median, third quartile and maximum values. Here, we used box plot for checking outliers in our dataset."
   ]
  },
  {
   "cell_type": "code",
   "execution_count": 16,
   "id": "76f33956",
   "metadata": {},
   "outputs": [
    {
     "data": {
      "text/plain": [
       "<function matplotlib.pyplot.show(close=None, block=None)>"
      ]
     },
     "execution_count": 16,
     "metadata": {},
     "output_type": "execute_result"
    },
    {
     "data": {
      "image/png": "[encoded data removed]",
      "text/plain": [
       "<Figure size 432x288 with 1 Axes>"
      ]
     },
     "metadata": {
      "needs_background": "light"
     },
     "output_type": "display_data"
    }
   ],
   "source": [
    "\n",
    "fig, ax = plt.subplots()\n",
    "ax.set_title('Basic Box Plot')\n",
    "ax.boxplot(Titanic_dataset['SibSp'])\n",
    "plt.show"
   ]
  },
  {
   "cell_type": "markdown",
   "id": "7c431f93",
   "metadata": {},
   "source": [
    "This box plot shows that there is no outliers in Sibsp column."
   ]
  },
  {
   "cell_type": "markdown",
   "id": "1f4290ed",
   "metadata": {},
   "source": [
    "Using box plot we checked outliers for Parch columnand sibsp column and found no dangerous outliers."
   ]
  },
  {
   "cell_type": "markdown",
   "id": "0db40f65",
   "metadata": {},
   "source": [
    "## Data Preparation"
   ]
  },
  {
   "cell_type": "markdown",
   "id": "a5dbde80",
   "metadata": {},
   "source": [
    "Data preparation is a first step in which we can clean our data and transform into an informative way, which can help in making predictions. In data preparation we have check columns having duplicate values and null values and also dropped unnecesary columns."
   ]
  },
  {
   "cell_type": "markdown",
   "id": "54d9fb69",
   "metadata": {},
   "source": [
    "## Duplicate values"
   ]
  },
  {
   "cell_type": "code",
   "execution_count": 18,
   "id": "8a5b257b",
   "metadata": {},
   "outputs": [
    {
     "name": "stdout",
     "output_type": "stream",
     "text": [
      "Number of duplicates in dataset:0\n"
     ]
    }
   ],
   "source": [
    "#Check Duplicates\n",
    "#Checking the duplicate values\n",
    "print(\"Number of duplicates in dataset:{}\".format(Titanic_dataset[[\"Name\",\"Age\"]].duplicated().sum()))"
   ]
  },
  {
   "cell_type": "markdown",
   "id": "db7ece53",
   "metadata": {},
   "source": [
    "In our dataset we also checked duplicate values. Here, Name and Age column having zero duplicate values."
   ]
  },
  {
   "cell_type": "markdown",
   "id": "7bd0a597",
   "metadata": {},
   "source": [
    "## Null values"
   ]
  },
  {
   "cell_type": "code",
   "execution_count": 19,
   "id": "00cdf9c3",
   "metadata": {},
   "outputs": [
    {
     "data": {
      "text/plain": [
       "PassengerId      0\n",
       "Survived         0\n",
       "Pclass           0\n",
       "Name             0\n",
       "Sex              0\n",
       "Age            177\n",
       "SibSp            0\n",
       "Parch            0\n",
       "Ticket           0\n",
       "Fare             0\n",
       "Cabin          687\n",
       "Embarked         2\n",
       "dtype: int64"
      ]
     },
     "execution_count": 19,
     "metadata": {},
     "output_type": "execute_result"
    }
   ],
   "source": [
    "Titanic_dataset.isnull().sum()"
   ]
  },
  {
   "cell_type": "markdown",
   "id": "b23ad40b",
   "metadata": {},
   "source": [
    "In our dataset Age, Cabin and Embarked column having null values 177, 687 and 2 respectively."
   ]
  },
  {
   "cell_type": "code",
   "execution_count": 20,
   "id": "445ebd4e",
   "metadata": {},
   "outputs": [],
   "source": [
    "#Filling the missed values - Embarked with its mode\n",
    "Emb_mode=st.mode(Titanic_dataset.Embarked)\n",
    "Titanic_dataset['Embarked'].fillna(Emb_mode,inplace=True)"
   ]
  },
  {
   "cell_type": "markdown",
   "id": "88bd754f",
   "metadata": {},
   "source": [
    "In our dataset we replaced null values of Embarked column with the help of mode."
   ]
  },
  {
   "cell_type": "code",
   "execution_count": 21,
   "id": "e4ccd988",
   "metadata": {},
   "outputs": [
    {
     "data": {
      "text/plain": [
       "PassengerId      int64\n",
       "Survived         int64\n",
       "Pclass           int64\n",
       "Sex              int64\n",
       "Age            float64\n",
       "SibSp            int64\n",
       "Parch            int64\n",
       "Fare           float64\n",
       "Cabin           object\n",
       "C                uint8\n",
       "Q                uint8\n",
       "S                uint8\n",
       "dtype: object"
      ]
     },
     "execution_count": 21,
     "metadata": {},
     "output_type": "execute_result"
    }
   ],
   "source": [
    "#Converting Sex categorical value into binary value\n",
    "Titanic_dataset[\"Sex\"].replace({\"male\": \"0\", \"female\": \"1\"}, inplace=True)\n",
    "Titanic_dataset['Sex']=Titanic_dataset['Sex'].astype('int64')\n",
    "embark= pd.get_dummies(Titanic_dataset[\"Embarked\"])\n",
    "Titanic_dataset=pd.concat([Titanic_dataset,embark],axis=1)\n",
    "##Dropping Unnecessary columns and also columns has null values\n",
    "Titanic_dataset.drop([ \"Name\",\"Ticket\",\"Embarked\"],axis=1,inplace=True)\n",
    "Titanic_dataset.dtypes"
   ]
  },
  {
   "cell_type": "code",
   "execution_count": 22,
   "id": "bc7aa15c",
   "metadata": {},
   "outputs": [
    {
     "data": {
      "text/plain": [
       "PassengerId      0\n",
       "Survived         0\n",
       "Pclass           0\n",
       "Sex              0\n",
       "Age            177\n",
       "SibSp            0\n",
       "Parch            0\n",
       "Fare             0\n",
       "Cabin          687\n",
       "C                0\n",
       "Q                0\n",
       "S                0\n",
       "dtype: int64"
      ]
     },
     "execution_count": 22,
     "metadata": {},
     "output_type": "execute_result"
    }
   ],
   "source": [
    "#Check whether null values exists\n",
    "Titanic_dataset.isnull().sum()"
   ]
  },
  {
   "cell_type": "markdown",
   "id": "e7a5018c",
   "metadata": {},
   "source": [
    "Here, Age and Cabin column having missing values. But both are unnecessary columns in our dataset so, we dropped these two columns."
   ]
  },
  {
   "cell_type": "code",
   "execution_count": 23,
   "id": "a3992ca2",
   "metadata": {},
   "outputs": [],
   "source": [
    "##Dropping Unnecessary columns and also columns has null values\n",
    "Titanic_dataset.drop([ \"Cabin\",\"Age\"],axis=1,inplace=True)"
   ]
  },
  {
   "cell_type": "markdown",
   "id": "4a6964d4",
   "metadata": {},
   "source": [
    "# Feature Selection"
   ]
  },
  {
   "cell_type": "markdown",
   "id": "96078aa2",
   "metadata": {},
   "source": [
    "Feature selection is a key step in our project in order to sort out the irrelevant independent variables from relevant ones. We have done this to enhance the correctness of our model and to minimize intricacy. Having irrelevant features in data can decrease the accuracy of the model.\n"
   ]
  },
  {
   "cell_type": "markdown",
   "id": "296a0713",
   "metadata": {},
   "source": [
    "Feature selection:\n",
    "- Enables a machine learning algorithm to train faster\n",
    "- Reduces the complexity of a model\n",
    "- Makes it easier to interpret\n",
    "- Improves the accuracy of a model if the right subset is \n",
    "  chosen\n",
    "- Reduces overfitting."
   ]
  },
  {
   "cell_type": "markdown",
   "id": "d3470cb2",
   "metadata": {},
   "source": [
    "### Method 1: Chi-Squared Method "
   ]
  },
  {
   "cell_type": "markdown",
   "id": "3a0cffea",
   "metadata": {},
   "source": [
    "Statistical tests can be used to select those features that have the strongest relationship with the output variable.\n",
    "\n",
    "The scikit-learn library provides the SelectKBest class that can be used with a suite of different statistical tests to select a specific number of features.\n",
    "\n",
    "Here we have used SelectKbest class to extract top 5 best features from our dataset. "
   ]
  },
  {
   "cell_type": "code",
   "execution_count": 24,
   "id": "0d07ff0c",
   "metadata": {},
   "outputs": [
    {
     "data": {
      "text/html": [
       "<div>\n",
       "<style scoped>\n",
       "    .dataframe tbody tr th:only-of-type {\n",
       "        vertical-align: middle;\n",
       "    }\n",
       "\n",
       "    .dataframe tbody tr th {\n",
       "        vertical-align: top;\n",
       "    }\n",
       "\n",
       "    .dataframe thead th {\n",
       "        text-align: right;\n",
       "    }\n",
       "</style>\n",
       "<table border=\"1\" class=\"dataframe\">\n",
       "  <thead>\n",
       "    <tr style=\"text-align: right;\">\n",
       "      <th></th>\n",
       "      <th>Feature</th>\n",
       "      <th>Score</th>\n",
       "    </tr>\n",
       "  </thead>\n",
       "  <tbody>\n",
       "    <tr>\n",
       "      <th>0</th>\n",
       "      <td>Pclass</td>\n",
       "      <td>30.873699</td>\n",
       "    </tr>\n",
       "    <tr>\n",
       "      <th>1</th>\n",
       "      <td>Sex</td>\n",
       "      <td>170.348127</td>\n",
       "    </tr>\n",
       "    <tr>\n",
       "      <th>2</th>\n",
       "      <td>SibSp</td>\n",
       "      <td>2.581865</td>\n",
       "    </tr>\n",
       "    <tr>\n",
       "      <th>3</th>\n",
       "      <td>Parch</td>\n",
       "      <td>10.097499</td>\n",
       "    </tr>\n",
       "    <tr>\n",
       "      <th>4</th>\n",
       "      <td>Fare</td>\n",
       "      <td>4518.319091</td>\n",
       "    </tr>\n",
       "    <tr>\n",
       "      <th>5</th>\n",
       "      <td>C</td>\n",
       "      <td>20.464401</td>\n",
       "    </tr>\n",
       "    <tr>\n",
       "      <th>6</th>\n",
       "      <td>Q</td>\n",
       "      <td>0.010847</td>\n",
       "    </tr>\n",
       "    <tr>\n",
       "      <th>7</th>\n",
       "      <td>S</td>\n",
       "      <td>5.489205</td>\n",
       "    </tr>\n",
       "  </tbody>\n",
       "</table>\n",
       "</div>"
      ],
      "text/plain": [
       "  Feature        Score\n",
       "0  Pclass    30.873699\n",
       "1     Sex   170.348127\n",
       "2   SibSp     2.581865\n",
       "3   Parch    10.097499\n",
       "4    Fare  4518.319091\n",
       "5       C    20.464401\n",
       "6       Q     0.010847\n",
       "7       S     5.489205"
      ]
     },
     "execution_count": 24,
     "metadata": {},
     "output_type": "execute_result"
    }
   ],
   "source": [
    "#apply SelectKBest class to extract top 5 best features\n",
    "X = Titanic_dataset.iloc[:,2:10]  #independent columns\n",
    "y = Titanic_dataset.iloc[:,1] \n",
    "X\n",
    "y\n",
    "bestfeatures = SelectKBest(score_func=chi2, k=8)\n",
    "fit = bestfeatures.fit(X,y)\n",
    "dfscores = pd.DataFrame(fit.scores_)\n",
    "dfcolumns = pd.DataFrame(X.columns)\n",
    "#concat two dataframes for better visualization \n",
    "featureScores = pd.concat([dfcolumns,dfscores],axis=1)\n",
    "featureScores.columns = ['Feature','Score']  #naming the dataframe columns\n",
    "featureScores\n",
    "# print(featureScores.nlargest(5,'Score'))  #print 5 best features"
   ]
  },
  {
   "cell_type": "markdown",
   "id": "1a4fbe2e",
   "metadata": {},
   "source": [
    "Here, Corresponding to each features, a score is calculated. The feature which having the \n",
    "highest score has the highest relevance. Our result exhibits that “Fare”, “Sex”, “Pclass”, “C” \n",
    "and “Parch” are the features with top scores. Among this, Fare is the most relevant feature."
   ]
  },
  {
   "cell_type": "markdown",
   "id": "878dbbe2",
   "metadata": {},
   "source": [
    "We have aslo used Pearson correlation,feature importance with tree based classifiers to select common relevant features."
   ]
  },
  {
   "cell_type": "markdown",
   "id": "28974d9f",
   "metadata": {},
   "source": [
    "# NORMALIZATION\n",
    "In normalization we changed the numerical values to a common scale, without distorting any differnces between values."
   ]
  },
  {
   "cell_type": "code",
   "execution_count": 29,
   "id": "40702765",
   "metadata": {},
   "outputs": [
    {
     "data": {
      "text/html": [
       "<div>\n",
       "<style scoped>\n",
       "    .dataframe tbody tr th:only-of-type {\n",
       "        vertical-align: middle;\n",
       "    }\n",
       "\n",
       "    .dataframe tbody tr th {\n",
       "        vertical-align: top;\n",
       "    }\n",
       "\n",
       "    .dataframe thead th {\n",
       "        text-align: right;\n",
       "    }\n",
       "</style>\n",
       "<table border=\"1\" class=\"dataframe\">\n",
       "  <thead>\n",
       "    <tr style=\"text-align: right;\">\n",
       "      <th></th>\n",
       "      <th>Fare</th>\n",
       "    </tr>\n",
       "  </thead>\n",
       "  <tbody>\n",
       "    <tr>\n",
       "      <th>0</th>\n",
       "      <td>0.014151</td>\n",
       "    </tr>\n",
       "    <tr>\n",
       "      <th>1</th>\n",
       "      <td>0.139136</td>\n",
       "    </tr>\n",
       "    <tr>\n",
       "      <th>2</th>\n",
       "      <td>0.015469</td>\n",
       "    </tr>\n",
       "    <tr>\n",
       "      <th>3</th>\n",
       "      <td>0.103644</td>\n",
       "    </tr>\n",
       "    <tr>\n",
       "      <th>4</th>\n",
       "      <td>0.015713</td>\n",
       "    </tr>\n",
       "    <tr>\n",
       "      <th>...</th>\n",
       "      <td>...</td>\n",
       "    </tr>\n",
       "    <tr>\n",
       "      <th>886</th>\n",
       "      <td>0.025374</td>\n",
       "    </tr>\n",
       "    <tr>\n",
       "      <th>887</th>\n",
       "      <td>0.058556</td>\n",
       "    </tr>\n",
       "    <tr>\n",
       "      <th>888</th>\n",
       "      <td>0.045771</td>\n",
       "    </tr>\n",
       "    <tr>\n",
       "      <th>889</th>\n",
       "      <td>0.058556</td>\n",
       "    </tr>\n",
       "    <tr>\n",
       "      <th>890</th>\n",
       "      <td>0.015127</td>\n",
       "    </tr>\n",
       "  </tbody>\n",
       "</table>\n",
       "<p>891 rows × 1 columns</p>\n",
       "</div>"
      ],
      "text/plain": [
       "         Fare\n",
       "0    0.014151\n",
       "1    0.139136\n",
       "2    0.015469\n",
       "3    0.103644\n",
       "4    0.015713\n",
       "..        ...\n",
       "886  0.025374\n",
       "887  0.058556\n",
       "888  0.045771\n",
       "889  0.058556\n",
       "890  0.015127\n",
       "\n",
       "[891 rows x 1 columns]"
      ]
     },
     "execution_count": 29,
     "metadata": {},
     "output_type": "execute_result"
    }
   ],
   "source": [
    "\n",
    "import pandas as pd\n",
    "from sklearn import preprocessing\n",
    "\n",
    "data = Titanic_dataset[['Fare']]\n",
    "cols = data.columns\n",
    "df = pd.DataFrame(data)\n",
    "df\n",
    "\n",
    "min_max_scaler = preprocessing.MinMaxScaler()\n",
    "np_scaled = min_max_scaler.fit_transform(df)\n",
    "\n",
    "df_normalized = pd.DataFrame(np_scaled, columns = cols)\n",
    "df_normalized"
   ]
  },
  {
   "cell_type": "markdown",
   "id": "d21a0a8c",
   "metadata": {},
   "source": [
    "In our dataset, we normalized the fare column with the help of min-max scaling method."
   ]
  },
  {
   "cell_type": "code",
   "execution_count": 30,
   "id": "93877e6e",
   "metadata": {},
   "outputs": [
    {
     "data": {
      "text/html": [
       "<div>\n",
       "<style scoped>\n",
       "    .dataframe tbody tr th:only-of-type {\n",
       "        vertical-align: middle;\n",
       "    }\n",
       "\n",
       "    .dataframe tbody tr th {\n",
       "        vertical-align: top;\n",
       "    }\n",
       "\n",
       "    .dataframe thead th {\n",
       "        text-align: right;\n",
       "    }\n",
       "</style>\n",
       "<table border=\"1\" class=\"dataframe\">\n",
       "  <thead>\n",
       "    <tr style=\"text-align: right;\">\n",
       "      <th></th>\n",
       "      <th>PassengerId</th>\n",
       "      <th>Survived</th>\n",
       "      <th>Pclass</th>\n",
       "      <th>Sex</th>\n",
       "      <th>SibSp</th>\n",
       "      <th>Parch</th>\n",
       "      <th>C</th>\n",
       "      <th>Q</th>\n",
       "      <th>S</th>\n",
       "    </tr>\n",
       "  </thead>\n",
       "  <tbody>\n",
       "    <tr>\n",
       "      <th>0</th>\n",
       "      <td>1</td>\n",
       "      <td>0</td>\n",
       "      <td>3</td>\n",
       "      <td>0</td>\n",
       "      <td>1</td>\n",
       "      <td>0</td>\n",
       "      <td>0</td>\n",
       "      <td>0</td>\n",
       "      <td>1</td>\n",
       "    </tr>\n",
       "    <tr>\n",
       "      <th>1</th>\n",
       "      <td>2</td>\n",
       "      <td>1</td>\n",
       "      <td>1</td>\n",
       "      <td>1</td>\n",
       "      <td>1</td>\n",
       "      <td>0</td>\n",
       "      <td>1</td>\n",
       "      <td>0</td>\n",
       "      <td>0</td>\n",
       "    </tr>\n",
       "    <tr>\n",
       "      <th>2</th>\n",
       "      <td>3</td>\n",
       "      <td>1</td>\n",
       "      <td>3</td>\n",
       "      <td>1</td>\n",
       "      <td>0</td>\n",
       "      <td>0</td>\n",
       "      <td>0</td>\n",
       "      <td>0</td>\n",
       "      <td>1</td>\n",
       "    </tr>\n",
       "    <tr>\n",
       "      <th>3</th>\n",
       "      <td>4</td>\n",
       "      <td>1</td>\n",
       "      <td>1</td>\n",
       "      <td>1</td>\n",
       "      <td>1</td>\n",
       "      <td>0</td>\n",
       "      <td>0</td>\n",
       "      <td>0</td>\n",
       "      <td>1</td>\n",
       "    </tr>\n",
       "    <tr>\n",
       "      <th>4</th>\n",
       "      <td>5</td>\n",
       "      <td>0</td>\n",
       "      <td>3</td>\n",
       "      <td>0</td>\n",
       "      <td>0</td>\n",
       "      <td>0</td>\n",
       "      <td>0</td>\n",
       "      <td>0</td>\n",
       "      <td>1</td>\n",
       "    </tr>\n",
       "    <tr>\n",
       "      <th>...</th>\n",
       "      <td>...</td>\n",
       "      <td>...</td>\n",
       "      <td>...</td>\n",
       "      <td>...</td>\n",
       "      <td>...</td>\n",
       "      <td>...</td>\n",
       "      <td>...</td>\n",
       "      <td>...</td>\n",
       "      <td>...</td>\n",
       "    </tr>\n",
       "    <tr>\n",
       "      <th>886</th>\n",
       "      <td>887</td>\n",
       "      <td>0</td>\n",
       "      <td>2</td>\n",
       "      <td>0</td>\n",
       "      <td>0</td>\n",
       "      <td>0</td>\n",
       "      <td>0</td>\n",
       "      <td>0</td>\n",
       "      <td>1</td>\n",
       "    </tr>\n",
       "    <tr>\n",
       "      <th>887</th>\n",
       "      <td>888</td>\n",
       "      <td>1</td>\n",
       "      <td>1</td>\n",
       "      <td>1</td>\n",
       "      <td>0</td>\n",
       "      <td>0</td>\n",
       "      <td>0</td>\n",
       "      <td>0</td>\n",
       "      <td>1</td>\n",
       "    </tr>\n",
       "    <tr>\n",
       "      <th>888</th>\n",
       "      <td>889</td>\n",
       "      <td>0</td>\n",
       "      <td>3</td>\n",
       "      <td>1</td>\n",
       "      <td>1</td>\n",
       "      <td>2</td>\n",
       "      <td>0</td>\n",
       "      <td>0</td>\n",
       "      <td>1</td>\n",
       "    </tr>\n",
       "    <tr>\n",
       "      <th>889</th>\n",
       "      <td>890</td>\n",
       "      <td>1</td>\n",
       "      <td>1</td>\n",
       "      <td>0</td>\n",
       "      <td>0</td>\n",
       "      <td>0</td>\n",
       "      <td>1</td>\n",
       "      <td>0</td>\n",
       "      <td>0</td>\n",
       "    </tr>\n",
       "    <tr>\n",
       "      <th>890</th>\n",
       "      <td>891</td>\n",
       "      <td>0</td>\n",
       "      <td>3</td>\n",
       "      <td>0</td>\n",
       "      <td>0</td>\n",
       "      <td>0</td>\n",
       "      <td>0</td>\n",
       "      <td>1</td>\n",
       "      <td>0</td>\n",
       "    </tr>\n",
       "  </tbody>\n",
       "</table>\n",
       "<p>891 rows × 9 columns</p>\n",
       "</div>"
      ],
      "text/plain": [
       "     PassengerId  Survived  Pclass  Sex  SibSp  Parch  C  Q  S\n",
       "0              1         0       3    0      1      0  0  0  1\n",
       "1              2         1       1    1      1      0  1  0  0\n",
       "2              3         1       3    1      0      0  0  0  1\n",
       "3              4         1       1    1      1      0  0  0  1\n",
       "4              5         0       3    0      0      0  0  0  1\n",
       "..           ...       ...     ...  ...    ...    ... .. .. ..\n",
       "886          887         0       2    0      0      0  0  0  1\n",
       "887          888         1       1    1      0      0  0  0  1\n",
       "888          889         0       3    1      1      2  0  0  1\n",
       "889          890         1       1    0      0      0  1  0  0\n",
       "890          891         0       3    0      0      0  0  1  0\n",
       "\n",
       "[891 rows x 9 columns]"
      ]
     },
     "execution_count": 30,
     "metadata": {},
     "output_type": "execute_result"
    }
   ],
   "source": [
    "#Deleting old fare columns to insert normalized fare column\n",
    "del Titanic_dataset['Fare']\n",
    "Titanic_dataset"
   ]
  },
  {
   "cell_type": "markdown",
   "id": "1d9f66a4",
   "metadata": {},
   "source": [
    "Our normalization of fare column, we dropped the old fare column from our dataset."
   ]
  },
  {
   "cell_type": "code",
   "execution_count": 31,
   "id": "69fa5854",
   "metadata": {},
   "outputs": [],
   "source": [
    "Titanic_dataset.insert(6, \"Fare\",df_normalized, True)"
   ]
  },
  {
   "cell_type": "code",
   "execution_count": 32,
   "id": "5872ed92",
   "metadata": {},
   "outputs": [
    {
     "data": {
      "text/html": [
       "<div>\n",
       "<style scoped>\n",
       "    .dataframe tbody tr th:only-of-type {\n",
       "        vertical-align: middle;\n",
       "    }\n",
       "\n",
       "    .dataframe tbody tr th {\n",
       "        vertical-align: top;\n",
       "    }\n",
       "\n",
       "    .dataframe thead th {\n",
       "        text-align: right;\n",
       "    }\n",
       "</style>\n",
       "<table border=\"1\" class=\"dataframe\">\n",
       "  <thead>\n",
       "    <tr style=\"text-align: right;\">\n",
       "      <th></th>\n",
       "      <th>PassengerId</th>\n",
       "      <th>Survived</th>\n",
       "      <th>Pclass</th>\n",
       "      <th>Sex</th>\n",
       "      <th>SibSp</th>\n",
       "      <th>Parch</th>\n",
       "      <th>Fare</th>\n",
       "      <th>C</th>\n",
       "      <th>Q</th>\n",
       "      <th>S</th>\n",
       "    </tr>\n",
       "  </thead>\n",
       "  <tbody>\n",
       "    <tr>\n",
       "      <th>0</th>\n",
       "      <td>1</td>\n",
       "      <td>0</td>\n",
       "      <td>3</td>\n",
       "      <td>0</td>\n",
       "      <td>1</td>\n",
       "      <td>0</td>\n",
       "      <td>0.014151</td>\n",
       "      <td>0</td>\n",
       "      <td>0</td>\n",
       "      <td>1</td>\n",
       "    </tr>\n",
       "    <tr>\n",
       "      <th>1</th>\n",
       "      <td>2</td>\n",
       "      <td>1</td>\n",
       "      <td>1</td>\n",
       "      <td>1</td>\n",
       "      <td>1</td>\n",
       "      <td>0</td>\n",
       "      <td>0.139136</td>\n",
       "      <td>1</td>\n",
       "      <td>0</td>\n",
       "      <td>0</td>\n",
       "    </tr>\n",
       "    <tr>\n",
       "      <th>2</th>\n",
       "      <td>3</td>\n",
       "      <td>1</td>\n",
       "      <td>3</td>\n",
       "      <td>1</td>\n",
       "      <td>0</td>\n",
       "      <td>0</td>\n",
       "      <td>0.015469</td>\n",
       "      <td>0</td>\n",
       "      <td>0</td>\n",
       "      <td>1</td>\n",
       "    </tr>\n",
       "    <tr>\n",
       "      <th>3</th>\n",
       "      <td>4</td>\n",
       "      <td>1</td>\n",
       "      <td>1</td>\n",
       "      <td>1</td>\n",
       "      <td>1</td>\n",
       "      <td>0</td>\n",
       "      <td>0.103644</td>\n",
       "      <td>0</td>\n",
       "      <td>0</td>\n",
       "      <td>1</td>\n",
       "    </tr>\n",
       "    <tr>\n",
       "      <th>4</th>\n",
       "      <td>5</td>\n",
       "      <td>0</td>\n",
       "      <td>3</td>\n",
       "      <td>0</td>\n",
       "      <td>0</td>\n",
       "      <td>0</td>\n",
       "      <td>0.015713</td>\n",
       "      <td>0</td>\n",
       "      <td>0</td>\n",
       "      <td>1</td>\n",
       "    </tr>\n",
       "    <tr>\n",
       "      <th>...</th>\n",
       "      <td>...</td>\n",
       "      <td>...</td>\n",
       "      <td>...</td>\n",
       "      <td>...</td>\n",
       "      <td>...</td>\n",
       "      <td>...</td>\n",
       "      <td>...</td>\n",
       "      <td>...</td>\n",
       "      <td>...</td>\n",
       "      <td>...</td>\n",
       "    </tr>\n",
       "    <tr>\n",
       "      <th>886</th>\n",
       "      <td>887</td>\n",
       "      <td>0</td>\n",
       "      <td>2</td>\n",
       "      <td>0</td>\n",
       "      <td>0</td>\n",
       "      <td>0</td>\n",
       "      <td>0.025374</td>\n",
       "      <td>0</td>\n",
       "      <td>0</td>\n",
       "      <td>1</td>\n",
       "    </tr>\n",
       "    <tr>\n",
       "      <th>887</th>\n",
       "      <td>888</td>\n",
       "      <td>1</td>\n",
       "      <td>1</td>\n",
       "      <td>1</td>\n",
       "      <td>0</td>\n",
       "      <td>0</td>\n",
       "      <td>0.058556</td>\n",
       "      <td>0</td>\n",
       "      <td>0</td>\n",
       "      <td>1</td>\n",
       "    </tr>\n",
       "    <tr>\n",
       "      <th>888</th>\n",
       "      <td>889</td>\n",
       "      <td>0</td>\n",
       "      <td>3</td>\n",
       "      <td>1</td>\n",
       "      <td>1</td>\n",
       "      <td>2</td>\n",
       "      <td>0.045771</td>\n",
       "      <td>0</td>\n",
       "      <td>0</td>\n",
       "      <td>1</td>\n",
       "    </tr>\n",
       "    <tr>\n",
       "      <th>889</th>\n",
       "      <td>890</td>\n",
       "      <td>1</td>\n",
       "      <td>1</td>\n",
       "      <td>0</td>\n",
       "      <td>0</td>\n",
       "      <td>0</td>\n",
       "      <td>0.058556</td>\n",
       "      <td>1</td>\n",
       "      <td>0</td>\n",
       "      <td>0</td>\n",
       "    </tr>\n",
       "    <tr>\n",
       "      <th>890</th>\n",
       "      <td>891</td>\n",
       "      <td>0</td>\n",
       "      <td>3</td>\n",
       "      <td>0</td>\n",
       "      <td>0</td>\n",
       "      <td>0</td>\n",
       "      <td>0.015127</td>\n",
       "      <td>0</td>\n",
       "      <td>1</td>\n",
       "      <td>0</td>\n",
       "    </tr>\n",
       "  </tbody>\n",
       "</table>\n",
       "<p>891 rows × 10 columns</p>\n",
       "</div>"
      ],
      "text/plain": [
       "     PassengerId  Survived  Pclass  Sex  SibSp  Parch      Fare  C  Q  S\n",
       "0              1         0       3    0      1      0  0.014151  0  0  1\n",
       "1              2         1       1    1      1      0  0.139136  1  0  0\n",
       "2              3         1       3    1      0      0  0.015469  0  0  1\n",
       "3              4         1       1    1      1      0  0.103644  0  0  1\n",
       "4              5         0       3    0      0      0  0.015713  0  0  1\n",
       "..           ...       ...     ...  ...    ...    ...       ... .. .. ..\n",
       "886          887         0       2    0      0      0  0.025374  0  0  1\n",
       "887          888         1       1    1      0      0  0.058556  0  0  1\n",
       "888          889         0       3    1      1      2  0.045771  0  0  1\n",
       "889          890         1       1    0      0      0  0.058556  1  0  0\n",
       "890          891         0       3    0      0      0  0.015127  0  1  0\n",
       "\n",
       "[891 rows x 10 columns]"
      ]
     },
     "execution_count": 32,
     "metadata": {},
     "output_type": "execute_result"
    }
   ],
   "source": [
    "Titanic_dataset"
   ]
  },
  {
   "cell_type": "markdown",
   "id": "48a8ef61",
   "metadata": {},
   "source": [
    "Now, we add fare column with normalized values in our dataset."
   ]
  },
  {
   "cell_type": "markdown",
   "id": "de3bcba0",
   "metadata": {},
   "source": [
    "# MODEL SELECTION\n",
    "\n",
    "#Based on our findings that our target variable is binary, no outliers in our data and slight correlation among variables tends us to use Logistic regression.\n"
   ]
  },
  {
   "cell_type": "markdown",
   "id": "9b26a1ce",
   "metadata": {},
   "source": [
    "Logistic regression is a linear classification technique for binary classification where the model predicts the likelihood that the passenger can be survived, 1 for survived and 0 for not survived. To train a model, the datasets got separated into training data (75%) and testing data (25%) using below command."
   ]
  },
  {
   "cell_type": "markdown",
   "id": "19615aa2",
   "metadata": {},
   "source": [
    "# Model (1):- Logistic Regression"
   ]
  },
  {
   "cell_type": "code",
   "execution_count": 33,
   "id": "79d98a60",
   "metadata": {},
   "outputs": [
    {
     "data": {
      "text/plain": [
       "(891, 8)"
      ]
     },
     "metadata": {},
     "output_type": "display_data"
    },
    {
     "data": {
      "text/plain": [
       "(891,)"
      ]
     },
     "metadata": {},
     "output_type": "display_data"
    }
   ],
   "source": [
    "X = Titanic_dataset[['Pclass', 'Sex','SibSp','Parch','Fare','C','Q','S']]\n",
    "y = Titanic_dataset['Survived']\n",
    "display(X.shape, y.shape)"
   ]
  },
  {
   "cell_type": "code",
   "execution_count": 34,
   "id": "e89d04e3",
   "metadata": {},
   "outputs": [],
   "source": [
    "X_train,X_test,y_train,y_test = train_test_split(X,y,test_size=0.25,random_state=0)"
   ]
  },
  {
   "cell_type": "markdown",
   "id": "20ed33ee",
   "metadata": {},
   "source": [
    "#### Displaying the number of datas in training and test dataset"
   ]
  },
  {
   "cell_type": "code",
   "execution_count": 35,
   "id": "83a7abf9",
   "metadata": {},
   "outputs": [
    {
     "data": {
      "text/plain": [
       "(668, 8)"
      ]
     },
     "metadata": {},
     "output_type": "display_data"
    },
    {
     "data": {
      "text/plain": [
       "(668,)"
      ]
     },
     "metadata": {},
     "output_type": "display_data"
    },
    {
     "data": {
      "text/plain": [
       "(223, 8)"
      ]
     },
     "metadata": {},
     "output_type": "display_data"
    },
    {
     "data": {
      "text/plain": [
       "(223,)"
      ]
     },
     "metadata": {},
     "output_type": "display_data"
    }
   ],
   "source": [
    "display(X_train.shape, y_train.shape, X_test.shape, y_test.shape)"
   ]
  },
  {
   "cell_type": "markdown",
   "id": "7ca92002",
   "metadata": {},
   "source": [
    "#### Applying the logistic regression model on training data set"
   ]
  },
  {
   "cell_type": "code",
   "execution_count": 36,
   "id": "43df6458",
   "metadata": {},
   "outputs": [
    {
     "data": {
      "text/plain": [
       "LogisticRegression(C=1000000000.0, fit_intercept=False)"
      ]
     },
     "execution_count": 36,
     "metadata": {},
     "output_type": "execute_result"
    }
   ],
   "source": [
    "lr = LogisticRegression(fit_intercept = False, C = 1e9)\n",
    "lr.fit(X_train,y_train)"
   ]
  },
  {
   "cell_type": "markdown",
   "id": "8601bc51",
   "metadata": {},
   "source": [
    "# Predict the test dataset"
   ]
  },
  {
   "cell_type": "code",
   "execution_count": 37,
   "id": "7217e1ea",
   "metadata": {},
   "outputs": [],
   "source": [
    "y_pred = lr.predict(X_test)"
   ]
  },
  {
   "cell_type": "code",
   "execution_count": 38,
   "id": "90dd052c",
   "metadata": {},
   "outputs": [
    {
     "data": {
      "text/plain": [
       "array([0, 0, 0, 1, 1, 0, 1, 1, 0, 1, 0, 1, 0, 1, 1, 1, 0, 0, 0, 0, 0, 1,\n",
       "       0, 0, 1, 1, 0, 1, 1, 0, 0, 1, 0, 0, 0, 0, 0, 0, 0, 0, 0, 0, 0, 0,\n",
       "       1, 0, 0, 1, 0, 0, 0, 0, 1, 0, 0, 0, 0, 0, 0, 0, 0, 1, 1, 0, 1, 0,\n",
       "       1, 0, 1, 1, 1, 0, 0, 0, 0, 1, 0, 0, 0, 0, 0, 0, 1, 0, 0, 1, 1, 1,\n",
       "       1, 0, 0, 0, 0, 1, 0, 0, 1, 0, 0, 1, 0, 0, 0, 0, 1, 1, 1, 1, 0, 1,\n",
       "       0, 1, 0, 1, 0, 1, 1, 1, 0, 1, 0, 0, 0, 0, 0, 0, 0, 0, 0, 0, 1, 0,\n",
       "       0, 1, 0, 0, 0, 1, 0, 0, 0, 1, 0, 1, 1, 1, 0, 1, 1, 0, 0, 1, 1, 0,\n",
       "       1, 0, 1, 0, 1, 1, 0, 0, 1, 0, 0, 0, 0, 0, 0, 0, 0, 1, 0, 0, 1, 0,\n",
       "       1, 0, 0, 1, 0, 0, 0, 0, 0, 0, 1, 0, 0, 1, 1, 0, 1, 1, 0, 0, 0, 1,\n",
       "       0, 0, 0, 1, 0, 1, 0, 0, 1, 0, 1, 0, 0, 0, 0, 1, 0, 0, 0, 0, 1, 1,\n",
       "       0, 1, 1], dtype=int64)"
      ]
     },
     "execution_count": 38,
     "metadata": {},
     "output_type": "execute_result"
    }
   ],
   "source": [
    "y_pred"
   ]
  },
  {
   "cell_type": "markdown",
   "id": "cec3e40d",
   "metadata": {},
   "source": [
    "# Create confusion matrix"
   ]
  },
  {
   "cell_type": "markdown",
   "id": "93facbf1",
   "metadata": {},
   "source": [
    "Confusion matrix is one of the performance measurement ways for machine learning models. It is a table four different combinations of actual values and predicted values.Here , we can get the details of true positives, true negatives, false positives and false negatives.  It helps to identify the accuracy , precision ,recall and f measure"
   ]
  },
  {
   "cell_type": "code",
   "execution_count": 39,
   "id": "a480d9a3",
   "metadata": {},
   "outputs": [
    {
     "data": {
      "text/plain": [
       "array([[118,  21],\n",
       "       [ 25,  59]], dtype=int64)"
      ]
     },
     "execution_count": 39,
     "metadata": {},
     "output_type": "execute_result"
    }
   ],
   "source": [
    "cnf_matrix = metrics.confusion_matrix(y_test, y_pred)\n",
    "cnf_matrix"
   ]
  },
  {
   "cell_type": "code",
   "execution_count": 40,
   "id": "13c60d60",
   "metadata": {},
   "outputs": [
    {
     "data": {
      "text/plain": [
       "<AxesSubplot:xlabel='Predicted', ylabel='Actual'>"
      ]
     },
     "execution_count": 40,
     "metadata": {},
     "output_type": "execute_result"
    },
    {
     "data": {
      "image/png": "[encoded data removed]",
      "text/plain": [
       "<Figure size 432x288 with 2 Axes>"
      ]
     },
     "metadata": {
      "needs_background": "light"
     },
     "output_type": "display_data"
    }
   ],
   "source": [
    "cnf_matrix = pd.crosstab(y_test, y_pred, rownames=['Actual'], colnames=['Predicted'])\n",
    "sns.heatmap(cnf_matrix, annot=True)"
   ]
  },
  {
   "cell_type": "code",
   "execution_count": 41,
   "id": "40f7e1af",
   "metadata": {},
   "outputs": [
    {
     "name": "stdout",
     "output_type": "stream",
     "text": [
      "Accuracy: 0.793722\n",
      "Precision: 0.737500\n",
      "Recall: 0.702381\n",
      "F1: 0.719512\n",
      "ROC AUC: 0.775651\n",
      "[[118  21]\n",
      " [ 25  59]]\n"
     ]
    }
   ],
   "source": [
    "accuracy = accuracy_score(y_test, y_pred)\n",
    "print('Accuracy: %f' % accuracy)\n",
    "precision = precision_score(y_test, y_pred)\n",
    "print('Precision: %f' % precision)\n",
    "recall = recall_score(y_test, y_pred)\n",
    "print('Recall: %f' % recall)\n",
    "f1 = f1_score(y_test, y_pred)\n",
    "print('F1: %f' % f1)\n",
    "\n",
    "# ROC AUC\n",
    "auc1 = roc_auc_score(y_test, y_pred)\n",
    "print('ROC AUC: %f' % auc1)\n",
    "matrix = confusion_matrix(y_test, y_pred)\n",
    "print(matrix)"
   ]
  },
  {
   "cell_type": "markdown",
   "id": "235c7180",
   "metadata": {},
   "source": [
    "ACCURACY is a ratio of correctly predicted values to the total values. Though accuracy is a great measure but it is better when you have symmetric datasets where values of false positive and false negatives are almost same. So we are considering the other parameters like Precision, recall and F1\n",
    "\n",
    "PRECISION is the ratio of correctly predicted positive values to the total predicted positive values.i.e among all passengers that labeled as survived, how many actually survived? High precision relates to the low false positive rate. We have got 0.73 precision which is pretty good.\n",
    "\n",
    "RECALL (Sensitivity) is the ratio of correctly predicted positive values to the all values in actual class i.e  Of all the passengers that truly survived, how many did we label? We have got recall of 0.70 which is good for this model as it’s above 0.5.\n",
    "\n",
    "F1 SCORE is the weighted average of Precision and Recall. Therefore, this score takes both false positives and false negatives.\n",
    "\n"
   ]
  },
  {
   "cell_type": "markdown",
   "id": "a6f1c88b",
   "metadata": {},
   "source": [
    "##### Based on the above results, we can understood that following features Sex,Fare,C are significant in finding target values.We have considered coefficient as they describe the change in target variable for change in this independent variable."
   ]
  },
  {
   "cell_type": "markdown",
   "id": "53956eed",
   "metadata": {},
   "source": [
    "# Model (2):- KNN\n"
   ]
  },
  {
   "cell_type": "markdown",
   "id": "50a5c6b5",
   "metadata": {},
   "source": [
    "#### K-nearest neighbors (KNN) algorithm is a kind of supervised ML algorithm which can be used for classification and regression. We have found the best K value and distance metrics using below comments where the number of neighbours are in odd values as to avoid ties in voting \n"
   ]
  },
  {
   "cell_type": "code",
   "execution_count": 44,
   "id": "af2d155e",
   "metadata": {},
   "outputs": [
    {
     "name": "stdout",
     "output_type": "stream",
     "text": [
      "{'metric': 'manhattan', 'n_neighbors': 9}\n",
      "0.8003740695021135\n"
     ]
    }
   ],
   "source": [
    "# model building using KNN classifier:\n",
    "from sklearn.neighbors import KNeighborsClassifier\n",
    "from sklearn.model_selection import cross_val_score\n",
    "from sklearn.model_selection import RepeatedStratifiedKFold\n",
    "from sklearn.model_selection import GridSearchCV\n",
    "\n",
    "knn_model = KNeighborsClassifier()\n",
    "\n",
    "cv = RepeatedStratifiedKFold(n_splits=5, n_repeats=3, random_state=1)\n",
    "knn_params = {'n_neighbors':[5,7,9,11,13],'metric':['minkowski','manhattan','chebyshev']}\n",
    "\n",
    "# evaluate model\n",
    "knn_GS = GridSearchCV(knn_model, knn_params, scoring=\"accuracy\", cv = cv, n_jobs=-1)\n",
    "knn_GS.fit(X_train,y_train)\n",
    "\n",
    "\n",
    "print(knn_GS.best_params_)\n",
    "print(knn_GS.best_score_)\n"
   ]
  },
  {
   "cell_type": "code",
   "execution_count": 45,
   "id": "fc3df12e",
   "metadata": {},
   "outputs": [
    {
     "name": "stdout",
     "output_type": "stream",
     "text": [
      "Accuracy: 0.780269\n",
      "Precision: 0.746479\n",
      "Recall: 0.630952\n",
      "F1: 0.683871\n",
      "ROC AUC: 0.750728\n"
     ]
    },
    {
     "data": {
      "image/png": "[encoded data removed]",
      "text/plain": [
       "<Figure size 432x288 with 2 Axes>"
      ]
     },
     "metadata": {
      "needs_background": "light"
     },
     "output_type": "display_data"
    }
   ],
   "source": [
    "\n",
    "# Evaluating the model on the validation set:\n",
    "from sklearn.metrics import confusion_matrix\n",
    "clf = KNeighborsClassifier(n_neighbors=9,metric='manhattan')\n",
    "clf.fit(X_train,y_train)\n",
    "y_pred = clf.predict(X_test)\n",
    "confusion_matrix(y_test,y_pred)\n",
    "\n",
    "cnf_matrix = pd.crosstab(y_test, y_pred, rownames=['Actual'], colnames=['Predicted'])\n",
    "sns.heatmap(cnf_matrix, annot=True)\n",
    "\n",
    "accuracy3 = accuracy_score(y_test, y_pred)\n",
    "print('Accuracy: %f' % accuracy3)\n",
    "precision3 = precision_score(y_test, y_pred)\n",
    "print('Precision: %f' % precision3)\n",
    "recall3 = recall_score(y_test, y_pred)\n",
    "print('Recall: %f' % recall3)\n",
    "f13 = f1_score(y_test, y_pred)\n",
    "print('F1: %f' % f13)\n",
    "\n",
    "# ROC AUC\n",
    "auc3 = roc_auc_score(y_test, y_pred)\n",
    "print('ROC AUC: %f' % auc3)\n",
    "matrix3 = confusion_matrix(y_test, y_pred)\n"
   ]
  },
  {
   "cell_type": "code",
   "execution_count": 46,
   "id": "5f142497",
   "metadata": {},
   "outputs": [
    {
     "name": "stdout",
     "output_type": "stream",
     "text": [
      "Model                  Accuracy    precision    recall        f1       Roc\n",
      "-------------------  ----------  -----------  --------  --------  --------\n",
      "Logistic regression    0.793722     0.7375    0.702381  0.719512  0.775651\n",
      "KNN                    0.780269     0.746479  0.630952  0.683871  0.750728\n"
     ]
    }
   ],
   "source": [
    "from tabulate import tabulate\n",
    "data = [[\"Logistic regression\", accuracy,precision,recall,f1,auc1], \n",
    "        [\"KNN\", accuracy3,precision3,recall3,f13,auc3]]\n",
    "  \n",
    "#define header names\n",
    "col_names = [\"Model\", \"Accuracy\",\"precision\",\"recall\",\"f1\",\"Roc\"]\n",
    "  \n",
    "#display table\n",
    "print(tabulate(data, headers=col_names))\n",
    "\n",
    "\n",
    "\n"
   ]
  },
  {
   "cell_type": "code",
   "execution_count": 47,
   "id": "433d3880",
   "metadata": {},
   "outputs": [],
   "source": [
    "y_prob = lr.predict_proba(X_test)[:,1] # This will give you positive class prediction probabilities  \n",
    "y_pred = np.where(y_prob > 0.5, 1, 0) # This will threshold the probabilities to give class predictions.\n",
    "\n",
    "\n",
    "y_prob1 = clf.predict_proba(X_test)[:,1] # This will give you positive class prediction probabilities  \n",
    "y_pred1 = np.where(y_prob1 > 0.5, 1, 0) # This will threshold the probabilities to give class predictions.\n"
   ]
  },
  {
   "cell_type": "code",
   "execution_count": 48,
   "id": "e333f11f",
   "metadata": {},
   "outputs": [
    {
     "data": {
      "text/plain": [
       "Text(0.63, 0.4, 'Less accurate area')"
      ]
     },
     "execution_count": 48,
     "metadata": {},
     "output_type": "execute_result"
    },
    {
     "data": {
      "image/png": "[encoded data removed]",
      "text/plain": [
       "<Figure size 720x720 with 1 Axes>"
      ]
     },
     "metadata": {
      "needs_background": "light"
     },
     "output_type": "display_data"
    }
   ],
   "source": [
    "from sklearn.metrics import roc_curve, auc\n",
    "false_positive_rate, true_positive_rate, thresholds = roc_curve(y_test, y_pred)\n",
    "roc_auc = auc(false_positive_rate, true_positive_rate)\n",
    "\n",
    "false_positive_rate1, true_positive_rate1, thresholds1 = roc_curve(y_test, y_pred1)\n",
    "roc_auc1 = auc(false_positive_rate1, true_positive_rate1)\n",
    "\n",
    "\n",
    "import matplotlib.pyplot as plt\n",
    "plt.figure(figsize=(10,10))\n",
    "plt.title('Receiver Operating Characteristic')\n",
    "plt.plot(false_positive_rate,true_positive_rate, color='red',label = 'AUC_logisticregression = %0.3f' % roc_auc)\n",
    "plt.plot(false_positive_rate1,true_positive_rate1, color='Green',label = 'AUC_KNN = %0.3f' % roc_auc1)\n",
    "\n",
    "plt.legend(loc = 'lower right')\n",
    "plt.plot([0, 1], [0, 1],linestyle='--')\n",
    "plt.axis('tight')\n",
    "plt.ylabel('True Positive Rate')\n",
    "plt.xlabel('False Positive Rate')\n",
    "\n",
    "plt.text(0.32,0.7,'More accurate area',fontsize = 12)\n",
    "plt.text(0.63,0.4,'Less accurate area',fontsize = 12)\n"
   ]
  },
  {
   "cell_type": "markdown",
   "id": "91269174",
   "metadata": {},
   "source": [
    "#### Apart from confusion matrix, accuracy,precision,recall and F1 score, Area under the ROC curve is also used to evaluate the model. The diagonal line in this graph denotes 50-50 partitioning. If the curve is closer to this line,it denotes lower performance of the model. In our case, logistic regression curve is farer from the KNN curve and the line,so model performs well."
   ]
  },
  {
   "cell_type": "markdown",
   "id": "cc1075a8",
   "metadata": {},
   "source": [
    "Comparing the models based on the metrics (accuracy, Precision, F1 score, Recall, ROC and AUC score) shows us clear picture of the best prediction model for this data set, it is Logistic regression model than KNN. \n",
    "\n"
   ]
  },
  {
   "cell_type": "markdown",
   "id": "7c625a38",
   "metadata": {},
   "source": [
    "## Testing our logistic regression model with sample data\n"
   ]
  },
  {
   "cell_type": "code",
   "execution_count": 49,
   "id": "bd67bcc8",
   "metadata": {},
   "outputs": [
    {
     "data": {
      "text/plain": [
       "(12, 5)"
      ]
     },
     "metadata": {},
     "output_type": "display_data"
    },
    {
     "data": {
      "text/plain": [
       "(12,)"
      ]
     },
     "metadata": {},
     "output_type": "display_data"
    }
   ],
   "source": [
    "# Given sample data and finding its survival status\n",
    "\n",
    "\n",
    "Titanic_testset = pd.read_csv('test.csv')\n",
    "\n",
    "X = Titanic_testset[['Pclass', 'Sex','Parch','Fare','C']]\n",
    "y = Titanic_testset['Survived']\n",
    "display(X.shape, y.shape)\n",
    "\n"
   ]
  },
  {
   "cell_type": "code",
   "execution_count": 50,
   "id": "a2648c18",
   "metadata": {},
   "outputs": [
    {
     "data": {
      "text/plain": [
       "array([0, 1, 1, 1, 1, 1, 1, 1, 0, 1, 1, 1], dtype=int64)"
      ]
     },
     "execution_count": 50,
     "metadata": {},
     "output_type": "execute_result"
    }
   ],
   "source": [
    "lr = LogisticRegression(fit_intercept = False, C = 1e9)\n",
    "lr.fit(X,y)\n",
    "y_pred = lr.predict(X)\n",
    "y_pred\n"
   ]
  },
  {
   "cell_type": "code",
   "execution_count": 51,
   "id": "647be0c1",
   "metadata": {},
   "outputs": [
    {
     "data": {
      "text/plain": [
       "<AxesSubplot:xlabel='Predicted', ylabel='Actual'>"
      ]
     },
     "execution_count": 51,
     "metadata": {},
     "output_type": "execute_result"
    },
    {
     "data": {
      "image/png": "[encoded data removed]",
      "text/plain": [
       "<Figure size 432x288 with 2 Axes>"
      ]
     },
     "metadata": {
      "needs_background": "light"
     },
     "output_type": "display_data"
    }
   ],
   "source": [
    "\n",
    "confusion_matrix(y,y_pred)\n",
    "\n",
    "cnf_matrix = pd.crosstab(y, y_pred, rownames=['Actual'], colnames=['Predicted'])\n",
    "sns.heatmap(cnf_matrix, annot=True)\n",
    "\n"
   ]
  },
  {
   "cell_type": "markdown",
   "id": "10195c73",
   "metadata": {},
   "source": [
    "Tested this model with sample data and found its prediction is 100% accurate"
   ]
  }
 ],
 "metadata": {
  "kernelspec": {
   "display_name": "Python 3 (ipykernel)",
   "language": "python",
   "name": "python3"
  },
  "language_info": {
   "codemirror_mode": {
    "name": "ipython",
    "version": 3
   },
   "file_extension": ".py",
   "mimetype": "text/x-python",
   "name": "python",
   "nbconvert_exporter": "python",
   "pygments_lexer": "ipython3",
   "version": "3.9.7"
  }
 },
 "nbformat": 4,
 "nbformat_minor": 5
}
